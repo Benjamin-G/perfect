{
 "cells": [
  {
   "cell_type": "code",
   "execution_count": null,
   "id": "4020b10d-18fc-4083-a604-372101cc80e9",
   "metadata": {},
   "outputs": [],
   "source": [
    "from tutorial import *\n",
    "from main import *"
   ]
  },
  {
   "cell_type": "code",
   "execution_count": null,
   "id": "470be6f5-65ac-481e-8ef1-8c355450ac9e",
   "metadata": {},
   "outputs": [],
   "source": [
    "# run the flow!\n",
    "github_stars([\"PrefectHQ/Prefect\"])\n",
    "res = api_flow(\"https://catfact.ninja/fact\")\n",
    "print(res)"
   ]
  },
  {
   "cell_type": "code",
   "execution_count": null,
   "id": "77759e05-5ccf-4eab-9dca-179ff8922deb",
   "metadata": {},
   "outputs": [],
   "source": [
    "from tutorial import *\n",
    "api_flow(\"https://catfact.ninja/fact\")"
   ]
  },
  {
   "cell_type": "code",
   "execution_count": null,
   "id": "c8210c2d-e707-49af-a9d0-a21dda70fccd",
   "metadata": {},
   "outputs": [],
   "source": [
    "from tutorial import *\n",
    "validation_flow(x=\"42\", y=100)"
   ]
  },
  {
   "cell_type": "code",
   "execution_count": null,
   "id": "3c7e1279-5462-491c-b89b-b69752f52ab8",
   "metadata": {},
   "outputs": [],
   "source": [
    "from tutorial import *\n",
    "model_validator({\"a\": 42, \"b\": 0, \"c\": 55})\n",
    "my_flow()\n",
    "map_flow([1,2,3,5,8,13])"
   ]
  },
  {
   "cell_type": "code",
   "execution_count": null,
   "id": "fd538ec5-2ef1-41d0-a5cb-7d6eefd88e44",
   "metadata": {},
   "outputs": [],
   "source": [
    "from tutorial import *\n",
    "a = sum_it([1, 2, 3], 5)\n",
    "b = sum_it_unmapped([4, 5, 6],[1, 2, 3])\n",
    "print(a)\n",
    "print(b)"
   ]
  },
  {
   "cell_type": "code",
   "execution_count": null,
   "id": "029ab811-98c6-4db5-8746-7442cf6df679",
   "metadata": {},
   "outputs": [],
   "source": [
    "print(a)\n",
    "print(b)"
   ]
  },
  {
   "cell_type": "code",
   "execution_count": null,
   "id": "5084838c-830c-40e4-884c-78472747c964",
   "metadata": {},
   "outputs": [],
   "source": [
    "from tutorial import *\n",
    "my_flow_error()"
   ]
  },
  {
   "cell_type": "code",
   "execution_count": 3,
   "id": "4a2f1781-c3d7-42b3-b0e2-13346d65d05b",
   "metadata": {},
   "outputs": [
    {
     "data": {
      "text/html": [
       "<pre style=\"white-space:pre;overflow-x:auto;line-height:normal;font-family:Menlo,'DejaVu Sans Mono',consolas,'Courier New',monospace\">18:42:24.165 | <span style=\"color: #008080; text-decoration-color: #008080\">INFO</span>    | prefect.engine - Created flow run<span style=\"color: #800080; text-decoration-color: #800080\"> 'affable-swallow'</span> for flow<span style=\"color: #800080; text-decoration-color: #800080; font-weight: bold\"> 'my-flow-error'</span>\n",
       "</pre>\n"
      ],
      "text/plain": [
       "18:42:24.165 | \u001b[36mINFO\u001b[0m    | prefect.engine - Created flow run\u001b[35m 'affable-swallow'\u001b[0m for flow\u001b[1;35m 'my-flow-error'\u001b[0m\n"
      ]
     },
     "metadata": {},
     "output_type": "display_data"
    },
    {
     "data": {
      "text/html": [
       "<pre style=\"white-space:pre;overflow-x:auto;line-height:normal;font-family:Menlo,'DejaVu Sans Mono',consolas,'Courier New',monospace\">18:42:24.430 | <span style=\"color: #008080; text-decoration-color: #008080\">INFO</span>    | Flow run<span style=\"color: #800080; text-decoration-color: #800080\"> 'affable-swallow'</span> - Created task run 'my_task_value_error-82070e60-0' for task 'my_task_value_error'\n",
       "</pre>\n"
      ],
      "text/plain": [
       "18:42:24.430 | \u001b[36mINFO\u001b[0m    | Flow run\u001b[35m 'affable-swallow'\u001b[0m - Created task run 'my_task_value_error-82070e60-0' for task 'my_task_value_error'\n"
      ]
     },
     "metadata": {},
     "output_type": "display_data"
    },
    {
     "data": {
      "text/html": [
       "<pre style=\"white-space:pre;overflow-x:auto;line-height:normal;font-family:Menlo,'DejaVu Sans Mono',consolas,'Courier New',monospace\">18:42:24.432 | <span style=\"color: #008080; text-decoration-color: #008080\">INFO</span>    | Flow run<span style=\"color: #800080; text-decoration-color: #800080\"> 'affable-swallow'</span> - Executing 'my_task_value_error-82070e60-0' immediately...\n",
       "</pre>\n"
      ],
      "text/plain": [
       "18:42:24.432 | \u001b[36mINFO\u001b[0m    | Flow run\u001b[35m 'affable-swallow'\u001b[0m - Executing 'my_task_value_error-82070e60-0' immediately...\n"
      ]
     },
     "metadata": {},
     "output_type": "display_data"
    },
    {
     "data": {
      "text/html": [
       "<pre style=\"white-space:pre;overflow-x:auto;line-height:normal;font-family:Menlo,'DejaVu Sans Mono',consolas,'Courier New',monospace\">18:42:24.517 | <span style=\"color: #d70000; text-decoration-color: #d70000\">ERROR</span>   | Task run 'my_task_value_error-82070e60-0' - Encountered exception during execution:\n",
       "Traceback (most recent call last):\n",
       "  File \"C:\\Python310\\lib\\site-packages\\prefect\\engine.py\", line 1488, in orchestrate_task_run\n",
       "    result = await run_sync(task.fn, *args, **kwargs)\n",
       "  File \"C:\\Python310\\lib\\site-packages\\prefect\\utilities\\asyncutils.py\", line 154, in run_sync_in_interruptible_worker_thread\n",
       "    async with anyio.create_task_group() as tg:\n",
       "  File \"C:\\Users\\brgey\\AppData\\Roaming\\Python\\Python310\\site-packages\\anyio\\_backends\\_asyncio.py\", line 662, in __aexit__\n",
       "    raise exceptions[0]\n",
       "  File \"C:\\Users\\brgey\\AppData\\Roaming\\Python\\Python310\\site-packages\\anyio\\to_thread.py\", line 31, in run_sync\n",
       "    return await get_asynclib().run_sync_in_worker_thread(\n",
       "  File \"C:\\Users\\brgey\\AppData\\Roaming\\Python\\Python310\\site-packages\\anyio\\_backends\\_asyncio.py\", line 937, in run_sync_in_worker_thread\n",
       "    return await future\n",
       "  File \"C:\\Users\\brgey\\AppData\\Roaming\\Python\\Python310\\site-packages\\anyio\\_backends\\_asyncio.py\", line 867, in run\n",
       "    result = context.run(func, *args)\n",
       "  File \"C:\\Python310\\lib\\site-packages\\prefect\\utilities\\asyncutils.py\", line 135, in capture_worker_thread_and_result\n",
       "    result = __fn(*args, **kwargs)\n",
       "  File \"C:\\Users\\brgey\\Py\\perfect\\tutorial.py\", line 122, in my_task_value_error\n",
       "    raise ValueError()\n",
       "ValueError\n",
       "</pre>\n"
      ],
      "text/plain": [
       "18:42:24.517 | \u001b[38;5;160mERROR\u001b[0m   | Task run 'my_task_value_error-82070e60-0' - Encountered exception during execution:\n",
       "Traceback (most recent call last):\n",
       "  File \"C:\\Python310\\lib\\site-packages\\prefect\\engine.py\", line 1488, in orchestrate_task_run\n",
       "    result = await run_sync(task.fn, *args, **kwargs)\n",
       "  File \"C:\\Python310\\lib\\site-packages\\prefect\\utilities\\asyncutils.py\", line 154, in run_sync_in_interruptible_worker_thread\n",
       "    async with anyio.create_task_group() as tg:\n",
       "  File \"C:\\Users\\brgey\\AppData\\Roaming\\Python\\Python310\\site-packages\\anyio\\_backends\\_asyncio.py\", line 662, in __aexit__\n",
       "    raise exceptions[0]\n",
       "  File \"C:\\Users\\brgey\\AppData\\Roaming\\Python\\Python310\\site-packages\\anyio\\to_thread.py\", line 31, in run_sync\n",
       "    return await get_asynclib().run_sync_in_worker_thread(\n",
       "  File \"C:\\Users\\brgey\\AppData\\Roaming\\Python\\Python310\\site-packages\\anyio\\_backends\\_asyncio.py\", line 937, in run_sync_in_worker_thread\n",
       "    return await future\n",
       "  File \"C:\\Users\\brgey\\AppData\\Roaming\\Python\\Python310\\site-packages\\anyio\\_backends\\_asyncio.py\", line 867, in run\n",
       "    result = context.run(func, *args)\n",
       "  File \"C:\\Python310\\lib\\site-packages\\prefect\\utilities\\asyncutils.py\", line 135, in capture_worker_thread_and_result\n",
       "    result = __fn(*args, **kwargs)\n",
       "  File \"C:\\Users\\brgey\\Py\\perfect\\tutorial.py\", line 122, in my_task_value_error\n",
       "    raise ValueError()\n",
       "ValueError\n"
      ]
     },
     "metadata": {},
     "output_type": "display_data"
    },
    {
     "data": {
      "text/html": [
       "<pre style=\"white-space:pre;overflow-x:auto;line-height:normal;font-family:Menlo,'DejaVu Sans Mono',consolas,'Courier New',monospace\">18:42:24.557 | <span style=\"color: #d70000; text-decoration-color: #d70000\">ERROR</span>   | Task run 'my_task_value_error-82070e60-0' - Finished in state <span style=\"color: #d70000; text-decoration-color: #d70000\">Failed</span>('Task run encountered an exception: ValueError\\n')\n",
       "</pre>\n"
      ],
      "text/plain": [
       "18:42:24.557 | \u001b[38;5;160mERROR\u001b[0m   | Task run 'my_task_value_error-82070e60-0' - Finished in state \u001b[38;5;160mFailed\u001b[0m('Task run encountered an exception: ValueError\\n')\n"
      ]
     },
     "metadata": {},
     "output_type": "display_data"
    },
    {
     "name": "stdout",
     "output_type": "stream",
     "text": [
      "Oh no! The task failed.\n"
     ]
    },
    {
     "data": {
      "text/html": [
       "<pre style=\"white-space:pre;overflow-x:auto;line-height:normal;font-family:Menlo,'DejaVu Sans Mono',consolas,'Courier New',monospace\">18:42:24.613 | <span style=\"color: #008080; text-decoration-color: #008080\">INFO</span>    | Flow run<span style=\"color: #800080; text-decoration-color: #800080\"> 'affable-swallow'</span> - Created task run 'my_task_value_error-82070e60-1' for task 'my_task_value_error'\n",
       "</pre>\n"
      ],
      "text/plain": [
       "18:42:24.613 | \u001b[36mINFO\u001b[0m    | Flow run\u001b[35m 'affable-swallow'\u001b[0m - Created task run 'my_task_value_error-82070e60-1' for task 'my_task_value_error'\n"
      ]
     },
     "metadata": {},
     "output_type": "display_data"
    },
    {
     "data": {
      "text/html": [
       "<pre style=\"white-space:pre;overflow-x:auto;line-height:normal;font-family:Menlo,'DejaVu Sans Mono',consolas,'Courier New',monospace\">18:42:24.616 | <span style=\"color: #008080; text-decoration-color: #008080\">INFO</span>    | Flow run<span style=\"color: #800080; text-decoration-color: #800080\"> 'affable-swallow'</span> - Executing 'my_task_value_error-82070e60-1' immediately...\n",
       "</pre>\n"
      ],
      "text/plain": [
       "18:42:24.616 | \u001b[36mINFO\u001b[0m    | Flow run\u001b[35m 'affable-swallow'\u001b[0m - Executing 'my_task_value_error-82070e60-1' immediately...\n"
      ]
     },
     "metadata": {},
     "output_type": "display_data"
    },
    {
     "data": {
      "text/html": [
       "<pre style=\"white-space:pre;overflow-x:auto;line-height:normal;font-family:Menlo,'DejaVu Sans Mono',consolas,'Courier New',monospace\">18:42:24.695 | <span style=\"color: #d70000; text-decoration-color: #d70000\">ERROR</span>   | Task run 'my_task_value_error-82070e60-1' - Encountered exception during execution:\n",
       "Traceback (most recent call last):\n",
       "  File \"C:\\Python310\\lib\\site-packages\\prefect\\engine.py\", line 1488, in orchestrate_task_run\n",
       "    result = await run_sync(task.fn, *args, **kwargs)\n",
       "  File \"C:\\Python310\\lib\\site-packages\\prefect\\utilities\\asyncutils.py\", line 154, in run_sync_in_interruptible_worker_thread\n",
       "    async with anyio.create_task_group() as tg:\n",
       "  File \"C:\\Users\\brgey\\AppData\\Roaming\\Python\\Python310\\site-packages\\anyio\\_backends\\_asyncio.py\", line 662, in __aexit__\n",
       "    raise exceptions[0]\n",
       "  File \"C:\\Users\\brgey\\AppData\\Roaming\\Python\\Python310\\site-packages\\anyio\\to_thread.py\", line 31, in run_sync\n",
       "    return await get_asynclib().run_sync_in_worker_thread(\n",
       "  File \"C:\\Users\\brgey\\AppData\\Roaming\\Python\\Python310\\site-packages\\anyio\\_backends\\_asyncio.py\", line 937, in run_sync_in_worker_thread\n",
       "    return await future\n",
       "  File \"C:\\Users\\brgey\\AppData\\Roaming\\Python\\Python310\\site-packages\\anyio\\_backends\\_asyncio.py\", line 867, in run\n",
       "    result = context.run(func, *args)\n",
       "  File \"C:\\Python310\\lib\\site-packages\\prefect\\utilities\\asyncutils.py\", line 135, in capture_worker_thread_and_result\n",
       "    result = __fn(*args, **kwargs)\n",
       "  File \"C:\\Users\\brgey\\Py\\perfect\\tutorial.py\", line 122, in my_task_value_error\n",
       "    raise ValueError()\n",
       "ValueError\n",
       "</pre>\n"
      ],
      "text/plain": [
       "18:42:24.695 | \u001b[38;5;160mERROR\u001b[0m   | Task run 'my_task_value_error-82070e60-1' - Encountered exception during execution:\n",
       "Traceback (most recent call last):\n",
       "  File \"C:\\Python310\\lib\\site-packages\\prefect\\engine.py\", line 1488, in orchestrate_task_run\n",
       "    result = await run_sync(task.fn, *args, **kwargs)\n",
       "  File \"C:\\Python310\\lib\\site-packages\\prefect\\utilities\\asyncutils.py\", line 154, in run_sync_in_interruptible_worker_thread\n",
       "    async with anyio.create_task_group() as tg:\n",
       "  File \"C:\\Users\\brgey\\AppData\\Roaming\\Python\\Python310\\site-packages\\anyio\\_backends\\_asyncio.py\", line 662, in __aexit__\n",
       "    raise exceptions[0]\n",
       "  File \"C:\\Users\\brgey\\AppData\\Roaming\\Python\\Python310\\site-packages\\anyio\\to_thread.py\", line 31, in run_sync\n",
       "    return await get_asynclib().run_sync_in_worker_thread(\n",
       "  File \"C:\\Users\\brgey\\AppData\\Roaming\\Python\\Python310\\site-packages\\anyio\\_backends\\_asyncio.py\", line 937, in run_sync_in_worker_thread\n",
       "    return await future\n",
       "  File \"C:\\Users\\brgey\\AppData\\Roaming\\Python\\Python310\\site-packages\\anyio\\_backends\\_asyncio.py\", line 867, in run\n",
       "    result = context.run(func, *args)\n",
       "  File \"C:\\Python310\\lib\\site-packages\\prefect\\utilities\\asyncutils.py\", line 135, in capture_worker_thread_and_result\n",
       "    result = __fn(*args, **kwargs)\n",
       "  File \"C:\\Users\\brgey\\Py\\perfect\\tutorial.py\", line 122, in my_task_value_error\n",
       "    raise ValueError()\n",
       "ValueError\n"
      ]
     },
     "metadata": {},
     "output_type": "display_data"
    },
    {
     "data": {
      "text/html": [
       "<pre style=\"white-space:pre;overflow-x:auto;line-height:normal;font-family:Menlo,'DejaVu Sans Mono',consolas,'Courier New',monospace\">18:42:24.729 | <span style=\"color: #d70000; text-decoration-color: #d70000\">ERROR</span>   | Task run 'my_task_value_error-82070e60-1' - Finished in state <span style=\"color: #d70000; text-decoration-color: #d70000\">Failed</span>('Task run encountered an exception: ValueError\\n')\n",
       "</pre>\n"
      ],
      "text/plain": [
       "18:42:24.729 | \u001b[38;5;160mERROR\u001b[0m   | Task run 'my_task_value_error-82070e60-1' - Finished in state \u001b[38;5;160mFailed\u001b[0m('Task run encountered an exception: ValueError\\n')\n"
      ]
     },
     "metadata": {},
     "output_type": "display_data"
    },
    {
     "name": "stdout",
     "output_type": "stream",
     "text": [
      "Oh no! The task failed. Falling back to '1'.\n",
      "Oh no! The task failed. Falling back to '1'.\n"
     ]
    },
    {
     "data": {
      "text/html": [
       "<pre style=\"white-space:pre;overflow-x:auto;line-height:normal;font-family:Menlo,'DejaVu Sans Mono',consolas,'Courier New',monospace\">18:42:24.777 | <span style=\"color: #008080; text-decoration-color: #008080\">INFO</span>    | Flow run<span style=\"color: #800080; text-decoration-color: #800080\"> 'affable-swallow'</span> - Finished in state <span style=\"color: #008000; text-decoration-color: #008000\">Completed</span>()\n",
       "</pre>\n"
      ],
      "text/plain": [
       "18:42:24.777 | \u001b[36mINFO\u001b[0m    | Flow run\u001b[35m 'affable-swallow'\u001b[0m - Finished in state \u001b[32mCompleted\u001b[0m()\n"
      ]
     },
     "metadata": {},
     "output_type": "display_data"
    }
   ],
   "source": [
    "%run run.py"
   ]
  },
  {
   "cell_type": "code",
   "execution_count": null,
   "id": "f44812c9-9e9e-4de7-bbd4-67c206dbc6f6",
   "metadata": {},
   "outputs": [],
   "source": []
  }
 ],
 "metadata": {
  "kernelspec": {
   "display_name": "Python 3 (ipykernel)",
   "language": "python",
   "name": "python3"
  },
  "language_info": {
   "codemirror_mode": {
    "name": "ipython",
    "version": 3
   },
   "file_extension": ".py",
   "mimetype": "text/x-python",
   "name": "python",
   "nbconvert_exporter": "python",
   "pygments_lexer": "ipython3",
   "version": "3.10.5"
  }
 },
 "nbformat": 4,
 "nbformat_minor": 5
}
