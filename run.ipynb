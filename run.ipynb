{
 "cells": [
  {
   "cell_type": "code",
   "execution_count": null,
   "id": "4020b10d-18fc-4083-a604-372101cc80e9",
   "metadata": {},
   "outputs": [],
   "source": [
    "\n",
    "from main import *"
   ]
  },
  {
   "cell_type": "code",
   "execution_count": null,
   "id": "470be6f5-65ac-481e-8ef1-8c355450ac9e",
   "metadata": {},
   "outputs": [],
   "source": [
    "# run the flow!\n",
    "github_stars([\"PrefectHQ/Prefect\"])\n",
    "res = api_flow(\"https://catfact.ninja/fact\")\n",
    "print(res)"
   ]
  },
  {
   "cell_type": "code",
   "execution_count": null,
   "id": "77759e05-5ccf-4eab-9dca-179ff8922deb",
   "metadata": {},
   "outputs": [],
   "source": [
    "from tutorial import *\n",
    "\n",
    "api_flow(\"https://catfact.ninja/fact\")"
   ]
  },
  {
   "cell_type": "code",
   "execution_count": null,
   "id": "c8210c2d-e707-49af-a9d0-a21dda70fccd",
   "metadata": {},
   "outputs": [],
   "source": [
    "from tutorial import *\n",
    "\n",
    "validation_flow(x=\"42\", y=100)"
   ]
  },
  {
   "cell_type": "code",
   "execution_count": null,
   "id": "3c7e1279-5462-491c-b89b-b69752f52ab8",
   "metadata": {},
   "outputs": [],
   "source": [
    "from tutorial import *\n",
    "\n",
    "model_validator({\"a\": 42, \"b\": 0, \"c\": 55})\n",
    "my_flow()\n",
    "map_flow([1, 2, 3, 5, 8, 13])"
   ]
  },
  {
   "cell_type": "code",
   "execution_count": null,
   "id": "fd538ec5-2ef1-41d0-a5cb-7d6eefd88e44",
   "metadata": {},
   "outputs": [],
   "source": [
    "from tutorial import *\n",
    "\n",
    "a = sum_it([1, 2, 3], 5)\n",
    "b = sum_it_unmapped([4, 5, 6], [1, 2, 3])\n",
    "print(a)\n",
    "print(b)"
   ]
  },
  {
   "cell_type": "markdown",
   "id": "e4db75df",
   "metadata": {},
   "source": []
  },
  {
   "cell_type": "code",
   "execution_count": null,
   "id": "029ab811-98c6-4db5-8746-7442cf6df679",
   "metadata": {},
   "outputs": [],
   "source": [
    "print(a)\n",
    "print(b)"
   ]
  },
  {
   "cell_type": "code",
   "execution_count": null,
   "id": "5084838c-830c-40e4-884c-78472747c964",
   "metadata": {},
   "outputs": [],
   "source": [
    "from tutorial import *\n",
    "\n",
    "my_flow_error()"
   ]
  },
  {
   "cell_type": "code",
   "execution_count": null,
   "id": "4a2f1781-c3d7-42b3-b0e2-13346d65d05b",
   "metadata": {},
   "outputs": [],
   "source": [
    "% run run.py"
   ]
  },
  {
   "cell_type": "markdown",
   "id": "61763b6c",
   "metadata": {},
   "source": [
    "# Testing For GC"
   ]
  },
  {
   "cell_type": "code",
   "execution_count": null,
   "id": "996ef772",
   "metadata": {},
   "outputs": [],
   "source": [
    "from modules.get_csv import get_classifier_df\n",
    "\n",
    "classifier_df = get_classifier_df.fn()"
   ]
  },
  {
   "cell_type": "code",
   "execution_count": null,
   "id": "ef77d354",
   "metadata": {},
   "outputs": [],
   "source": [
    "classifier_df.dtypes"
   ]
  },
  {
   "cell_type": "code",
   "execution_count": null,
   "id": "9ebae4b3",
   "metadata": {},
   "outputs": [],
   "source": [
    "sorted(classifier_df['Category'].unique())\n",
    "classifier_df.nunique()"
   ]
  },
  {
   "cell_type": "code",
   "execution_count": null,
   "id": "4bb4a96e",
   "metadata": {},
   "outputs": [],
   "source": [
    "classifier_df.groupby('Ingredient').count().sort_values(by='Category', ascending=False)"
   ]
  },
  {
   "cell_type": "code",
   "execution_count": null,
   "id": "7d3e4204",
   "metadata": {},
   "outputs": [],
   "source": [
    "classifier_df.query('Ingredient == \"SODIUM PHOSPHATE\"')"
   ]
  },
  {
   "cell_type": "code",
   "execution_count": null,
   "id": "76cfba58",
   "metadata": {},
   "outputs": [],
   "source": [
    "classifier_df.query('`Old Abbreviation` == \"AC\"')"
   ]
  },
  {
   "cell_type": "code",
   "execution_count": null,
   "id": "378741ba",
   "metadata": {},
   "outputs": [],
   "source": [
    "classifier_df[classifier_df['Old Abbreviation'].str.contains('AC', case=False, na=False)]"
   ]
  },
  {
   "cell_type": "code",
   "execution_count": null,
   "id": "7f16d048",
   "metadata": {},
   "outputs": [],
   "source": []
  }
 ],
 "metadata": {
  "kernelspec": {
   "display_name": "Python 3 (ipykernel)",
   "language": "python",
   "name": "python3"
  },
  "language_info": {
   "codemirror_mode": {
    "name": "ipython",
    "version": 3
   },
   "file_extension": ".py",
   "mimetype": "text/x-python",
   "name": "python",
   "nbconvert_exporter": "python",
   "pygments_lexer": "ipython3",
   "version": "3.10.5"
  }
 },
 "nbformat": 4,
 "nbformat_minor": 5
}
