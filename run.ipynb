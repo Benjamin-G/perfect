{
 "cells": [
  {
   "cell_type": "code",
   "execution_count": null,
   "id": "4020b10d-18fc-4083-a604-372101cc80e9",
   "metadata": {},
   "outputs": [],
   "source": [
    "from tutorial import *\n",
    "from main import *"
   ]
  },
  {
   "cell_type": "code",
   "execution_count": null,
   "id": "470be6f5-65ac-481e-8ef1-8c355450ac9e",
   "metadata": {},
   "outputs": [],
   "source": [
    "# run the flow!\n",
    "github_stars([\"PrefectHQ/Prefect\"])\n",
    "res = api_flow(\"https://catfact.ninja/fact\")\n",
    "print(res)"
   ]
  },
  {
   "cell_type": "code",
   "execution_count": null,
   "id": "77759e05-5ccf-4eab-9dca-179ff8922deb",
   "metadata": {},
   "outputs": [],
   "source": []
  }
 ],
 "metadata": {
  "kernelspec": {
   "display_name": "Python 3 (ipykernel)",
   "language": "python",
   "name": "python3"
  },
  "language_info": {
   "codemirror_mode": {
    "name": "ipython",
    "version": 3
   },
   "file_extension": ".py",
   "mimetype": "text/x-python",
   "name": "python",
   "nbconvert_exporter": "python",
   "pygments_lexer": "ipython3",
   "version": "3.10.5"
  }
 },
 "nbformat": 4,
 "nbformat_minor": 5
}
